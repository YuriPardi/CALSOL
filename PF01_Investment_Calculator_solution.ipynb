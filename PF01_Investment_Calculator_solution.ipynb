{
 "cells": [
  {
   "cell_type": "markdown",
   "metadata": {},
   "source": [
    "<div class=\"alert alert-block alert-info\" style=\"background-color: #f2f2f2; color:#3F3F3F; width:90%; padding:50px; -webkit-border-radius:5px\">\n",
    "\n",
    "## Python Fundamentals 1: Investment Calculator\n",
    "\n",
    "This two-hour pilot workshop is designed for absolute beginners. You'll dive straight into coding without prior examples or explanations.\n",
    "\n",
    "You will be given a series of tasks to complete, guiding you through the steps of building a simple investment calculator.\n",
    "\n",
    "To solve these tasks, you will use the same resources that coders around the world rely on when they don’t know how to do something – online resources/tools, colleagues, and trial and error.\n",
    "\n",
    "We will use Jupyter notebooks for this task, which will allow you to write and test your code section by section. \n",
    "\n",
    "\n",
    "<b>What to do when getting stuck</b>:\n",
    "    <ol>\n",
    "        <li><b>Search online</b>: Being able to search for relevant information online by formulating your problem as an effective search term is a highly important skill for programmers at all levels of proficiency. Here are a few useful resources:</li>\n",
    "        <ol>\n",
    "            <li>The answer box on the top of Google's results page</li>\n",
    "            <li><a href=\"https://www.w3schools.com\">w3schools.com</a> (basic python questions and interactive tutorials)</li>\n",
    "            <li><a href=\"https://www.geeksforgeeks.org\">www.geeksforgeeks.org</a> (basic python questions)</li>\n",
    "            <li><a href=\"https://www.stackoverflow.com\">stackoverflow.com</a> (task-specific solutions)</li>\n",
    "        </ol>\n",
    "        <li>Check with the people sitting around you. In a real job, you would seek help from your colleagues and friends, so start that now. If you don’t know the person next to you, introduce yourself now. </li>\n",
    "        <li>Ask the <b>trainer</b> if you struggle to find a solution.</li>\n",
    "    </ol>\n"
   ]
  },
  {
   "cell_type": "markdown",
   "metadata": {},
   "source": [
    "<img src=\"https://www.dropbox.com/scl/fi/73y9tgyc5d63y9uk60zz8/invest_calc.jpeg?rlkey=j188lcl471n6d2pauua4edb6m&st=l6s19bc9&raw=1\" width=800>\n"
   ]
  },
  {
   "cell_type": "markdown",
   "metadata": {},
   "source": [
    "You've graduated from LSE with distinction and have secured your first job as a young professional. You’re earning so much money, that you don't know how to spend all of it and started investing your earnings wisely, but the complicated calculations are causing a headache. You stumble upon Python, a powerful yet beginner-friendly programming language. You decide to write a script that simplifies these intricate investment calculations.  "
   ]
  },
  {
   "cell_type": "markdown",
   "metadata": {},
   "source": [
    "Your Python script should allow you to: \n",
    "\n",
    "* Input and store your initial investment amount, monthly contributions, investment duration, and interest rate.\n",
    "\n",
    "* Calculate the final output of the investment.\n"
   ]
  },
  {
   "cell_type": "markdown",
   "metadata": {},
   "source": [
    "\n",
    "### What the final output should look like\n",
    "\n",
    "See below to see an example of the finished product.\n",
    "    "
   ]
  },
  {
   "cell_type": "markdown",
   "metadata": {},
   "source": [
    "User entering values\n",
    "\n",
    "<img src=\"https://www.dropbox.com/scl/fi/o957e2prxh805anyz5wtx/PF1_inv_calc.gif?rlkey=h04gracjjll9xoct5vkn6lxht&st=hftuear7&raw=1\" alt=\"GIF\">\n",
    "\n",
    "<br>\n",
    "\n",
    "Final output\n",
    "\n",
    "<img src=\"https://www.dropbox.com/scl/fi/84sow3yn3kk0ydnfbcrph/PF1_inv_calc.png?rlkey=ribfu8dbx5hqakcaczn5481w3&st=drrwsq4p&raw=1\">"
   ]
  },
  {
   "cell_type": "markdown",
   "metadata": {},
   "source": [
    "## A basic investment calculator\n",
    "\n",
    "Coding a solution often requires breaking a problem down into smaller sections, testing each one before improving on it and building up to the final solution. We suggest you break down this problem as follows: \n",
    "\n",
    "Add code into the labelled code cells below that will: \n",
    "\n",
    "\n",
    "1. Calculate the outcome of a year’s investment with a starting capital of 1000 with a return rate of 5%. A return rate of 5% means that the investment grows by 5% each year. See the calculation below written out as a mathematical formula.\n",
    "$$ 1000 \\times 1.05 $$\n",
    "2. Calculate the outcome after 7 years’ of investment. See the calculation below written out as a mathematical formula.\n",
    "$$ 1000 \\times 1.05^7 $$\n",
    "3. Store the result of both calculations and use the stored values to display two sentences as below, where X is replaced with the respective stored value.\n",
    "\n",
    "        In 1 year, you will have £X\n",
    "        In 7 years, you will have £X\n",
    "  \n",
    "4. Allow the user to input the following values:\n",
    "    - initial investment amount\n",
    "    - interest rates\n",
    "    - length of investment\n",
    "\n",
    "   Then use the values entered by the user to display the result of the investment as for step 3. The user should be able to enter the interest rate as a percentage value. That is, if the user wants to use a 5 percent annual interest rate, they should be able to enter 5 instead of 1.05.\n",
    "\n",
    "5. Add comments to your code so that you, or other colleagues who might look at/use your code, understand what each main section does "
   ]
  },
  {
   "cell_type": "code",
   "execution_count": 1,
   "metadata": {},
   "outputs": [
    {
     "name": "stdout",
     "output_type": "stream",
     "text": [
      "1050.0\n"
     ]
    }
   ],
   "source": [
    "# calculate a year's investment return\n",
    "print(1000*1.05)"
   ]
  },
  {
   "cell_type": "code",
   "execution_count": null,
   "metadata": {},
   "outputs": [],
   "source": [
    "# calculate 7 year's investment return\n",
    "print(1000*1.05**7)"
   ]
  },
  {
   "cell_type": "code",
   "execution_count": 15,
   "metadata": {},
   "outputs": [
    {
     "name": "stdout",
     "output_type": "stream",
     "text": [
      "In one year you will have £1050.0.\n",
      "In seven year you will have £1407.1.\n"
     ]
    }
   ],
   "source": [
    "# store return and display message about return after 1 and 7 years\n",
    "outcome_one_year = 1000 * 1.05\n",
    "outcome_seven_years = 1000 * 1.05 ** 7\n",
    "outcome_one_year = round(outcome_one_year, 2)\n",
    "outcome_seven_years = round(outcome_seven_years, 2)\n",
    "\n",
    "print(f\"In one year you will have £\", outcome_one_year, \".\", sep=\"\")\n",
    "print(f\"In seven year you will have £\", outcome_seven_years, \".\", sep=\"\")"
   ]
  },
  {
   "cell_type": "code",
   "execution_count": 24,
   "metadata": {
    "tags": []
   },
   "outputs": [
    {
     "name": "stdout",
     "output_type": "stream",
     "text": [
      "Your Projected Investment Outcome\n",
      "---------------------------------\n",
      "\n",
      "Initial Value in GBP: 1000.0\n",
      "Annual Interest Rate: 5%\n",
      "Years of Investment:  20.0\n",
      "\n",
      "Final outcome in GBP: 2653.3\n"
     ]
    }
   ],
   "source": [
    "# let users enter initial investment, interest rate, length of investment and display results\n",
    "initial_value = float(input(\"Initial value > \"))\n",
    "interest_rate = float(input(\"Interest rate > \"))\n",
    "interest_rate = 1 + interest_rate / 100\n",
    "interest_rate = round(interest_rate, 2)\n",
    "years = float(input(\"Years of investment > \"))\n",
    "\n",
    "outcome = initial_value * interest_rate ** years\n",
    "outcome = round(outcome, 2)\n",
    "\n",
    "print(\"Your Projected Investment Outcome\")\n",
    "print(\"---------------------------------\")\n",
    "print()\n",
    "print(\"Initial Value in GBP:\", initial_value)\n",
    "print(\"Annual Interest Rate: \", int((interest_rate - 1)*100), \"%\", sep=\"\")\n",
    "print(\"Years of Investment: \", years)\n",
    "print()\n",
    "print(\"Final outcome in GBP:\", outcome)"
   ]
  },
  {
   "cell_type": "code",
   "execution_count": 2,
   "metadata": {},
   "outputs": [
    {
     "name": "stdout",
     "output_type": "stream",
     "text": [
      "Your Projected Investment Outcome\n",
      "---------------------------------\n",
      "\n",
      "Initial Value in GBP: 1000\n",
      "Annual Interest Rate: 5%\n",
      "Years of Investment:  30\n",
      "\n",
      "Final outcome in GBP: 4321.94\n"
     ]
    }
   ],
   "source": [
    "# let users enter initial investment, interest rate, length of investment and display results\n",
    "initial_value = float(input(\"Initial value > \"))\n",
    "interest_rate = float(input(\"Interest rate > \"))\n",
    "interest_rate = 1 + interest_rate / 100\n",
    "interest_rate = round(interest_rate, 2)\n",
    "years = float(input(\"Years of investment > \"))\n",
    "\n",
    "outcome = initial_value * interest_rate ** years\n",
    "outcome = round(outcome, 2)\n",
    "\n",
    "print(\"Your Projected Investment Outcome\")\n",
    "print(\"---------------------------------\")\n",
    "print()\n",
    "print(\"Initial Value in GBP:\", initial_value)\n",
    "print(\"Annual Interest Rate: \", int((interest_rate - 1)*100), \"%\", sep=\"\")\n",
    "print(\"Years of Investment: \", years)\n",
    "print()\n",
    "print(\"Final outcome in GBP:\", outcome)\n",
    "\n"
   ]
  },
  {
   "cell_type": "markdown",
   "metadata": {},
   "source": [
    "## Bonus Task: Adding a flexible interest rate\n",
    "\n",
    "Set the interest rate depending on the years of investmen in such a way that:\n",
    "- If the years of investment is below 5, the interest rate will be set to 2.5%\n",
    "- If the years of investment is larger than 5 and smaller than 10, the interest rate will be set to 3.5%\n",
    "- If the years of investment is larger than 10, the interest rate will be set to 5%"
   ]
  },
  {
   "cell_type": "code",
   "execution_count": 1,
   "metadata": {},
   "outputs": [
    {
     "name": "stdout",
     "output_type": "stream",
     "text": [
      "Your Projected Investment Outcome\n",
      "---------------------------------\n",
      "\n",
      "Initial Value in GBP: 1000.0\n",
      "Annual Interest Rate: 5%\n",
      "Years of Investment:  10.0\n",
      "\n",
      "Final outcome in GBP: 1628.89\n"
     ]
    }
   ],
   "source": [
    "# let users enter initial investment, interest rate, length of investment and display results\n",
    "initial_value = float(input(\"Initial value > \"))\n",
    "years = float(input(\"Years of investment > \"))\n",
    "\n",
    "if years < 5:\n",
    "    interest_rate = 2.5\n",
    "elif years < 10:\n",
    "    interest_rate = 3.5\n",
    "else:\n",
    "    interest_rate = 5\n",
    "    \n",
    "interest_rate = 1 + interest_rate / 100\n",
    "interest_rate = round(interest_rate, 2)\n",
    "\n",
    "outcome = initial_value * interest_rate ** years\n",
    "outcome = round(outcome, 2)\n",
    "\n",
    "print(\"Your Projected Investment Outcome\")\n",
    "print(\"---------------------------------\")\n",
    "print()\n",
    "print(\"Initial Value in GBP:\", initial_value)\n",
    "print(\"Annual Interest Rate: \", int((interest_rate - 1)*100), \"%\", sep=\"\")\n",
    "print(\"Years of Investment: \", years)\n",
    "print()\n",
    "print(\"Final outcome in GBP:\", outcome)\n",
    "\n"
   ]
  }
 ],
 "metadata": {
  "kernelspec": {
   "display_name": "Python 3 (ipykernel)",
   "language": "python",
   "name": "python3"
  },
  "language_info": {
   "codemirror_mode": {
    "name": "ipython",
    "version": 3
   },
   "file_extension": ".py",
   "mimetype": "text/x-python",
   "name": "python",
   "nbconvert_exporter": "python",
   "pygments_lexer": "ipython3",
   "version": "3.11.5"
  }
 },
 "nbformat": 4,
 "nbformat_minor": 4
}
